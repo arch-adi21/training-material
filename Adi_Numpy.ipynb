{
  "nbformat": 4,
  "nbformat_minor": 0,
  "metadata": {
    "colab": {
      "provenance": []
    },
    "kernelspec": {
      "name": "python3",
      "display_name": "Python 3"
    },
    "language_info": {
      "name": "python"
    }
  },
  "cells": [
    {
      "cell_type": "markdown",
      "source": [
        "# **Numpy tutorial by Aditya**\n",
        "\n",
        "we will learn creating arrays , using random function , indexing arrays , slicing arrays , statistical and mathematical functions and practical working.\n",
        "\n",
        "We will do some operations on real world datasets which we will import from kaggle."
      ],
      "metadata": {
        "id": "nb2wzCNX4H6r"
      }
    },
    {
      "cell_type": "code",
      "execution_count": null,
      "metadata": {
        "id": "9WdD3vp94Cjl"
      },
      "outputs": [],
      "source": [
        "import numpy as np # np is the alias"
      ]
    },
    {
      "cell_type": "code",
      "source": [
        "arr = np.array([1,2,3,4,5]) # 1 dimensional or 1-D array\n",
        "print(arr)\n",
        "print(type(arr)) # checking the type of the variable\n",
        "print(arr.dtype)"
      ],
      "metadata": {
        "colab": {
          "base_uri": "https://localhost:8080/"
        },
        "id": "MfIfQCLq4uc6",
        "outputId": "816e9834-3d5b-4dc3-a3e2-482b9395abff"
      },
      "execution_count": null,
      "outputs": [
        {
          "output_type": "stream",
          "name": "stdout",
          "text": [
            "[1 2 3 4 5]\n",
            "<class 'numpy.ndarray'>\n",
            "int64\n"
          ]
        }
      ]
    },
    {
      "cell_type": "code",
      "source": [
        "arr2d = np.array([[1,2,3],[4,5,6]]) # 2-D array\n",
        "arr3d = np.array([[[1,2,3],[4,5,6],[7,8,9]],[[1,2,3],[4,5,6],[7,8,9]]]) # 3-D array\n",
        "print(arr2d)\n",
        "print(type(arr2d))\n",
        "print(arr3d)\n",
        "print(type(arr3d))"
      ],
      "metadata": {
        "colab": {
          "base_uri": "https://localhost:8080/"
        },
        "id": "fA0UiZrS45Ht",
        "outputId": "a3260c7f-24b8-467e-a31b-368e8b16dd63"
      },
      "execution_count": null,
      "outputs": [
        {
          "output_type": "stream",
          "name": "stdout",
          "text": [
            "[[1 2 3]\n",
            " [4 5 6]]\n",
            "<class 'numpy.ndarray'>\n",
            "[[[1 2 3]\n",
            "  [4 5 6]\n",
            "  [7 8 9]]\n",
            "\n",
            " [[1 2 3]\n",
            "  [4 5 6]\n",
            "  [7 8 9]]]\n",
            "<class 'numpy.ndarray'>\n"
          ]
        }
      ]
    },
    {
      "cell_type": "code",
      "source": [
        "print(np.shape(arr)) # getting shapes ---> rows x columns\n",
        "print(np.shape(arr2d)) # shape of 2-D array\n",
        "print(np.shape(arr3d))"
      ],
      "metadata": {
        "colab": {
          "base_uri": "https://localhost:8080/"
        },
        "id": "HHjNwj9u65eE",
        "outputId": "3366c978-e80f-4b2f-8e49-ef17bf5c1c24"
      },
      "execution_count": null,
      "outputs": [
        {
          "output_type": "stream",
          "name": "stdout",
          "text": [
            "(5,)\n",
            "(2, 3)\n",
            "(2, 3, 3)\n"
          ]
        }
      ]
    },
    {
      "cell_type": "code",
      "source": [
        "arrn = np.reshape(arr,(5,1)) # know this that even shape of arra was shown as (5,) but actually it was in the format of\n",
        "# (1,5) which means a single row and 5 columns and here we reversed the order of the matrix\n",
        "print(arrn)"
      ],
      "metadata": {
        "colab": {
          "base_uri": "https://localhost:8080/"
        },
        "id": "hsf-Y1gp7I9Z",
        "outputId": "9847acd8-415d-49c2-e40e-64963cd1a25d"
      },
      "execution_count": null,
      "outputs": [
        {
          "output_type": "stream",
          "name": "stdout",
          "text": [
            "[[1]\n",
            " [2]\n",
            " [3]\n",
            " [4]\n",
            " [5]]\n"
          ]
        }
      ]
    },
    {
      "cell_type": "code",
      "source": [
        "arrn2d = np.reshape(arr3d,(9,-1)) # we converted this 3-D arr3d array into a new 2-D array. you can skip one of the shape values as -1 and reshape will calculate the value of that place automatically.\n",
        "# but you can't leave more than one shape value as -1\n",
        "print(arrn2d)"
      ],
      "metadata": {
        "colab": {
          "base_uri": "https://localhost:8080/"
        },
        "id": "fFPB3JCb9ZQw",
        "outputId": "27e7af09-660e-43fd-bf59-a29cb32a351a"
      },
      "execution_count": null,
      "outputs": [
        {
          "output_type": "stream",
          "name": "stdout",
          "text": [
            "[[1 2]\n",
            " [3 4]\n",
            " [5 6]\n",
            " [7 8]\n",
            " [9 1]\n",
            " [2 3]\n",
            " [4 5]\n",
            " [6 7]\n",
            " [8 9]]\n"
          ]
        }
      ]
    },
    {
      "cell_type": "code",
      "source": [
        "mat = np.random.rand(3,3,3) # this is use of random function where we generate random inputs of elements for a predefined shape of array.\n",
        "# THe elements always range from 0 to 1 both being exclusive.\n",
        "print(mat)"
      ],
      "metadata": {
        "colab": {
          "base_uri": "https://localhost:8080/"
        },
        "id": "HMQkU4Ww_ARs",
        "outputId": "b4862a16-ef67-4fc5-ae18-6d98c6c180e9"
      },
      "execution_count": null,
      "outputs": [
        {
          "output_type": "stream",
          "name": "stdout",
          "text": [
            "[[[0.99434016 0.36229559 0.05880997]\n",
            "  [0.00119357 0.78762347 0.27577327]\n",
            "  [0.31172293 0.57588618 0.82029191]]\n",
            "\n",
            " [[0.41808645 0.32899422 0.07117116]\n",
            "  [0.41670933 0.60796364 0.08776997]\n",
            "  [0.42849928 0.30072741 0.65201611]]\n",
            "\n",
            " [[0.80376581 0.65418278 0.82665583]\n",
            "  [0.98779088 0.54069311 0.82770248]\n",
            "  [0.25467166 0.93240155 0.21479891]]]\n"
          ]
        }
      ]
    },
    {
      "cell_type": "code",
      "source": [
        "mat1 = np.random.rand(3,3,3) # as u can see we ran the same piece of code with new name and the elements are different\n",
        "# if you run this or previous block , the array will change again\n",
        "print(mat)"
      ],
      "metadata": {
        "colab": {
          "base_uri": "https://localhost:8080/"
        },
        "id": "Ah4OVe5xBOAJ",
        "outputId": "d841b1a0-78b1-4f55-cac4-ce060059a38a"
      },
      "execution_count": null,
      "outputs": [
        {
          "output_type": "stream",
          "name": "stdout",
          "text": [
            "[[[0.99434016 0.36229559 0.05880997]\n",
            "  [0.00119357 0.78762347 0.27577327]\n",
            "  [0.31172293 0.57588618 0.82029191]]\n",
            "\n",
            " [[0.41808645 0.32899422 0.07117116]\n",
            "  [0.41670933 0.60796364 0.08776997]\n",
            "  [0.42849928 0.30072741 0.65201611]]\n",
            "\n",
            " [[0.80376581 0.65418278 0.82665583]\n",
            "  [0.98779088 0.54069311 0.82770248]\n",
            "  [0.25467166 0.93240155 0.21479891]]]\n"
          ]
        }
      ]
    },
    {
      "cell_type": "code",
      "source": [
        "state = np.random.RandomState(21) # here we state a random state , which means we are storing this session and when we use\n",
        "# this random state again , you will get the same array as this one.\n",
        "# The number 21 can be replaced with any number as per your wish , but when u want to get the same sample you need to set\n",
        "# the same number again\n",
        "mat2 = np.random.rand(3,3,3)\n",
        "print(mat)"
      ],
      "metadata": {
        "colab": {
          "base_uri": "https://localhost:8080/"
        },
        "id": "_tUP3cSKBjqA",
        "outputId": "39600266-2203-43f0-ca10-0e92044560b8"
      },
      "execution_count": null,
      "outputs": [
        {
          "output_type": "stream",
          "name": "stdout",
          "text": [
            "[[[0.99434016 0.36229559 0.05880997]\n",
            "  [0.00119357 0.78762347 0.27577327]\n",
            "  [0.31172293 0.57588618 0.82029191]]\n",
            "\n",
            " [[0.41808645 0.32899422 0.07117116]\n",
            "  [0.41670933 0.60796364 0.08776997]\n",
            "  [0.42849928 0.30072741 0.65201611]]\n",
            "\n",
            " [[0.80376581 0.65418278 0.82665583]\n",
            "  [0.98779088 0.54069311 0.82770248]\n",
            "  [0.25467166 0.93240155 0.21479891]]]\n"
          ]
        }
      ]
    },
    {
      "cell_type": "code",
      "source": [
        "state = np.random.RandomState(21) # this code is proof of the previous claim\n",
        "mat3 = np.random.rand(3,3,3)\n",
        "print(mat)"
      ],
      "metadata": {
        "colab": {
          "base_uri": "https://localhost:8080/"
        },
        "id": "gr-R8a1oCVCX",
        "outputId": "c6be4b04-6488-463b-8631-594b9673cb50"
      },
      "execution_count": null,
      "outputs": [
        {
          "output_type": "stream",
          "name": "stdout",
          "text": [
            "[[[0.99434016 0.36229559 0.05880997]\n",
            "  [0.00119357 0.78762347 0.27577327]\n",
            "  [0.31172293 0.57588618 0.82029191]]\n",
            "\n",
            " [[0.41808645 0.32899422 0.07117116]\n",
            "  [0.41670933 0.60796364 0.08776997]\n",
            "  [0.42849928 0.30072741 0.65201611]]\n",
            "\n",
            " [[0.80376581 0.65418278 0.82665583]\n",
            "  [0.98779088 0.54069311 0.82770248]\n",
            "  [0.25467166 0.93240155 0.21479891]]]\n"
          ]
        }
      ]
    },
    {
      "cell_type": "markdown",
      "source": [
        "# Create an array of zeros of given shape\n",
        "\n",
        "np.zeros(): create array of all zeros in given shape\n",
        "\n",
        "np.zeros_like(): create array of all zeros with the same shape and data type as the given input array\n",
        "\n"
      ],
      "metadata": {
        "id": "QaA0HU1uF-bn"
      }
    },
    {
      "cell_type": "code",
      "source": [
        "zeros = np.zeros((2,3))\n",
        "print(zeros)"
      ],
      "metadata": {
        "colab": {
          "base_uri": "https://localhost:8080/"
        },
        "id": "LgmPKUFlDLF1",
        "outputId": "d2d36047-1276-4b96-fde3-2349b14b4465"
      },
      "execution_count": null,
      "outputs": [
        {
          "output_type": "stream",
          "name": "stdout",
          "text": [
            "[[0. 0. 0.]\n",
            " [0. 0. 0.]]\n"
          ]
        }
      ]
    },
    {
      "cell_type": "code",
      "source": [
        "arr = np.array([[1,2], [3,4],[5,6]], dtype=np.complex64) # we are initially telling that elements inside this array should be\n",
        "# of complex data type\n",
        "zeros = np.zeros_like(arr)\n",
        "print(zeros)\n",
        "print(type(zeros.dtype))\n",
        "print('Data Type: ' + str(zeros.dtype)) # we used type casting here"
      ],
      "metadata": {
        "colab": {
          "base_uri": "https://localhost:8080/"
        },
        "id": "KopyJYubGPuD",
        "outputId": "b3c09e39-01ac-4d10-c80b-2ea003396e5a"
      },
      "execution_count": null,
      "outputs": [
        {
          "output_type": "stream",
          "name": "stdout",
          "text": [
            "[[0.+0.j 0.+0.j]\n",
            " [0.+0.j 0.+0.j]\n",
            " [0.+0.j 0.+0.j]]\n",
            "<class 'numpy.dtype[complex64]'>\n",
            "Data Type: complex64\n"
          ]
        }
      ]
    },
    {
      "cell_type": "markdown",
      "source": [
        "Simillarlly you can use np.ones and np.empty to create srrays of ones and empty array respectively."
      ],
      "metadata": {
        "id": "Bz_0Ag_6IZq9"
      }
    },
    {
      "cell_type": "markdown",
      "source": [
        "# arange function\n",
        "\n",
        "this function will help us to directly generate a 1-D array with elements in a specified range"
      ],
      "metadata": {
        "id": "OJy-BBnGUv1m"
      }
    },
    {
      "cell_type": "code",
      "source": [
        "A = np.arange(1,10) # 1 will inclusive and 10 will exclusive\n",
        "A"
      ],
      "metadata": {
        "colab": {
          "base_uri": "https://localhost:8080/"
        },
        "id": "4x4x4kGaU8Om",
        "outputId": "bc86a886-811a-4f18-dadd-d186d96752e7"
      },
      "execution_count": null,
      "outputs": [
        {
          "output_type": "execute_result",
          "data": {
            "text/plain": [
              "array([1, 2, 3, 4, 5, 6, 7, 8, 9])"
            ]
          },
          "metadata": {},
          "execution_count": 55
        }
      ]
    },
    {
      "cell_type": "markdown",
      "source": [
        "# Create an identity matrix of given size\n",
        "np.eye(size, k=0): create an identity matrix of given size\n",
        "\n",
        "*  size: the size of the identity matrix\n",
        "*  k: the diagonal offset\n",
        "\n",
        "np.identity(): same as np.eye() but does not carry parameters"
      ],
      "metadata": {
        "id": "Vm1eSvkSJLvk"
      }
    },
    {
      "cell_type": "code",
      "source": [
        "identity_matrix = np.eye(5)\n",
        "print(identity_matrix)"
      ],
      "metadata": {
        "colab": {
          "base_uri": "https://localhost:8080/"
        },
        "id": "4befBJZsJfFI",
        "outputId": "c0d37d92-5ee5-45aa-fa0a-7baa5cda4099"
      },
      "execution_count": null,
      "outputs": [
        {
          "output_type": "stream",
          "name": "stdout",
          "text": [
            "[[1. 0. 0. 0. 0.]\n",
            " [0. 1. 0. 0. 0.]\n",
            " [0. 0. 1. 0. 0.]\n",
            " [0. 0. 0. 1. 0.]\n",
            " [0. 0. 0. 0. 1.]]\n"
          ]
        }
      ]
    },
    {
      "cell_type": "code",
      "source": [
        "# An example of diagonal offset\n",
        "identity_matrix = np.eye(5, k=-1)\n",
        "print(identity_matrix)"
      ],
      "metadata": {
        "colab": {
          "base_uri": "https://localhost:8080/"
        },
        "id": "SlSLv9MAJhMn",
        "outputId": "3d3d8b9a-af13-401b-d55d-ccb6a3c7b43f"
      },
      "execution_count": null,
      "outputs": [
        {
          "output_type": "stream",
          "name": "stdout",
          "text": [
            "[[0. 0. 0. 0. 0.]\n",
            " [1. 0. 0. 0. 0.]\n",
            " [0. 1. 0. 0. 0.]\n",
            " [0. 0. 1. 0. 0.]\n",
            " [0. 0. 0. 1. 0.]]\n"
          ]
        }
      ]
    },
    {
      "cell_type": "markdown",
      "source": [
        "# Stacking of arrays\n",
        "\n",
        "Stacking means concatinating the elements of two arrays of compatible size , vertically or horizontally"
      ],
      "metadata": {
        "id": "3N0bKfSsRz37"
      }
    },
    {
      "cell_type": "code",
      "source": [
        "a1 = np.array([[1,2,3],\n",
        "               [4,5,6]])\n",
        "\n",
        "a2 = np.array([[7,8,9],\n",
        "               [10,11,12]])\n",
        "\n",
        "o = np.hstack((a1, a2)) # Horizontal Stacking of Numpy Arrays\n",
        "\n",
        "print(o)"
      ],
      "metadata": {
        "colab": {
          "base_uri": "https://localhost:8080/"
        },
        "id": "sSd_3_l-SWIn",
        "outputId": "9cedfedf-ca06-40ed-8c04-168c27a00f9d"
      },
      "execution_count": null,
      "outputs": [
        {
          "output_type": "stream",
          "name": "stdout",
          "text": [
            "[[ 1  2  3  7  8  9]\n",
            " [ 4  5  6 10 11 12]]\n"
          ]
        }
      ]
    },
    {
      "cell_type": "code",
      "source": [
        "a1 = np.array([[1,2],\n",
        "               [3,4],\n",
        "               [5,6]])\n",
        "\n",
        "a2 = np.array([[7,8],\n",
        "               [9,10],\n",
        "               [10,11]])\n",
        "\n",
        "o = np.vstack((a1, a2)) # Vertically Stacking of Numpy Arrays\n",
        "\n",
        "print(o)"
      ],
      "metadata": {
        "colab": {
          "base_uri": "https://localhost:8080/"
        },
        "id": "3bbEGuR1S_C6",
        "outputId": "574c9567-036d-4681-c8be-09ecba5b381e"
      },
      "execution_count": null,
      "outputs": [
        {
          "output_type": "stream",
          "name": "stdout",
          "text": [
            "[[ 1  2]\n",
            " [ 3  4]\n",
            " [ 5  6]\n",
            " [ 7  8]\n",
            " [ 9 10]\n",
            " [10 11]]\n"
          ]
        }
      ]
    },
    {
      "cell_type": "markdown",
      "source": [
        "# Mathematics in numpy\n",
        "\n",
        "you can perfom basic operations on the arrays like addition of a number to all the elements , multiplying a constant to all the elements , giving array as argument to functions like , sin() , cos() , sqrt() , log()"
      ],
      "metadata": {
        "id": "zDgFvDOhKHug"
      }
    },
    {
      "cell_type": "code",
      "source": [
        "arr = np.random.rand(5,5)\n",
        "arr"
      ],
      "metadata": {
        "colab": {
          "base_uri": "https://localhost:8080/"
        },
        "id": "Ik4dmJ5eKxPk",
        "outputId": "f127c048-2634-40b2-ab4e-c3127967bd68"
      },
      "execution_count": null,
      "outputs": [
        {
          "output_type": "execute_result",
          "data": {
            "text/plain": [
              "array([[0.42752229, 0.97560515, 0.64819273, 0.35896982, 0.81815627],\n",
              "       [0.7504197 , 0.85656032, 0.93833411, 0.33154959, 0.21227733],\n",
              "       [0.51700061, 0.96929442, 0.68195855, 0.4898989 , 0.49549877],\n",
              "       [0.90767456, 0.02340654, 0.00704502, 0.39748554, 0.88047492],\n",
              "       [0.43754685, 0.81566137, 0.90993406, 0.83206697, 0.96090659]])"
            ]
          },
          "metadata": {},
          "execution_count": 42
        }
      ]
    },
    {
      "cell_type": "code",
      "source": [
        "print(arr + 10)\n",
        "print(arr - 10)\n",
        "print(arr * 10)\n",
        "print(arr / 10)"
      ],
      "metadata": {
        "colab": {
          "base_uri": "https://localhost:8080/"
        },
        "id": "jEJNWsVvKjl8",
        "outputId": "58ae71c1-f8ad-48f6-9e7b-0c7681aaed9e"
      },
      "execution_count": null,
      "outputs": [
        {
          "output_type": "stream",
          "name": "stdout",
          "text": [
            "[[10.42752229 10.97560515 10.64819273 10.35896982 10.81815627]\n",
            " [10.7504197  10.85656032 10.93833411 10.33154959 10.21227733]\n",
            " [10.51700061 10.96929442 10.68195855 10.4898989  10.49549877]\n",
            " [10.90767456 10.02340654 10.00704502 10.39748554 10.88047492]\n",
            " [10.43754685 10.81566137 10.90993406 10.83206697 10.96090659]]\n",
            "[[-9.57247771 -9.02439485 -9.35180727 -9.64103018 -9.18184373]\n",
            " [-9.2495803  -9.14343968 -9.06166589 -9.66845041 -9.78772267]\n",
            " [-9.48299939 -9.03070558 -9.31804145 -9.5101011  -9.50450123]\n",
            " [-9.09232544 -9.97659346 -9.99295498 -9.60251446 -9.11952508]\n",
            " [-9.56245315 -9.18433863 -9.09006594 -9.16793303 -9.03909341]]\n",
            "[[4.27522288 9.75605152 6.48192733 3.58969824 8.18156266]\n",
            " [7.50419696 8.56560318 9.38334111 3.31549595 2.12277326]\n",
            " [5.17000612 9.69294422 6.81958547 4.89898903 4.95498768]\n",
            " [9.07674561 0.23406544 0.07045017 3.97485537 8.80474918]\n",
            " [4.37546851 8.15661367 9.09934058 8.32066967 9.6090659 ]]\n",
            "[[0.04275223 0.09756052 0.06481927 0.03589698 0.08181563]\n",
            " [0.07504197 0.08565603 0.09383341 0.03315496 0.02122773]\n",
            " [0.05170006 0.09692944 0.06819585 0.04898989 0.04954988]\n",
            " [0.09076746 0.00234065 0.0007045  0.03974855 0.08804749]\n",
            " [0.04375469 0.08156614 0.09099341 0.0832067  0.09609066]]\n"
          ]
        }
      ]
    },
    {
      "cell_type": "code",
      "source": [
        "# the above operations can be performed using numpy built-in functions\n",
        "# which can save memory as the output can be stored in the original array rather than assigning new memory\n",
        "arr1 = np.array([1,2,3])\n",
        "np.add(arr1, [8,9,10], out=arr1)\n",
        "print(arr1)\n",
        "\n",
        "np.subtract(arr1, [8,9,10], out=arr1)\n",
        "print(arr1)\n",
        "\n",
        "np.multiply(arr1, [1,2,3], out=arr1)\n",
        "print(arr1)"
      ],
      "metadata": {
        "colab": {
          "base_uri": "https://localhost:8080/"
        },
        "id": "mI0rR8XPK5Ks",
        "outputId": "f22ec613-65fc-4037-8ae8-fd630f4ffac5"
      },
      "execution_count": null,
      "outputs": [
        {
          "output_type": "stream",
          "name": "stdout",
          "text": [
            "[ 9 11 13]\n",
            "[1 2 3]\n",
            "[1 4 9]\n"
          ]
        }
      ]
    },
    {
      "cell_type": "code",
      "source": [
        "print(np.exp(arr)) # exponetial function of arr\n",
        "# natural log\n",
        "print(np.log(arr))\n",
        "print()\n",
        "# base 2\n",
        "print(np.log2(arr))\n",
        "print()\n",
        "# base 10\n",
        "print(np.log10(arr))\n",
        "print()\n",
        "# elementwise sin(arr)\n",
        "print(np.sin(arr))\n",
        "print()\n",
        "# elementwise square root\n",
        "print(np.sqrt(arr))"
      ],
      "metadata": {
        "colab": {
          "base_uri": "https://localhost:8080/"
        },
        "id": "P8AAtFx-LDVF",
        "outputId": "d7d19b56-0050-46eb-e7a7-13b90c1827e0"
      },
      "execution_count": null,
      "outputs": [
        {
          "output_type": "stream",
          "name": "stdout",
          "text": [
            "[[1.53345336 2.65277206 1.91208206 1.43185359 2.2663175 ]\n",
            " [2.1178887  2.35504614 2.55572032 1.39312524 1.23649075]\n",
            " [1.67699015 2.63608384 1.97774745 1.63215121 1.64131667]\n",
            " [2.47855211 1.02368263 1.00706989 1.48807827 2.41204496]\n",
            " [1.54890287 2.26067031 2.48415872 2.29806386 2.61406528]]\n",
            "[[-0.84974886 -0.02469733 -0.4335672  -1.02451695 -0.20070193]\n",
            " [-0.28712263 -0.15483054 -0.0636492  -1.10397787 -1.54986172]\n",
            " [-0.65971122 -0.03118687 -0.3827864  -0.71355623 -0.70219041]\n",
            " [-0.09686938 -3.75473963 -4.95543467 -0.92259673 -0.12729384]\n",
            " [-0.82657149 -0.203756   -0.09438315 -0.18384235 -0.03987808]]\n",
            "\n",
            "[[-1.22592846 -0.03563072 -0.62550525 -1.47806552 -0.28955167]\n",
            " [-0.4142304  -0.22337325 -0.09182638 -1.5927034  -2.23597782]\n",
            " [-0.95176211 -0.04499315 -0.55224405 -1.02944403 -1.01304662]\n",
            " [-0.13975297 -5.41694424 -7.14918103 -1.33102573 -0.18364619]\n",
            " [-1.19249059 -0.29395777 -0.1361661  -0.26522845 -0.0575319 ]]\n",
            "\n",
            "[[-0.36904124 -0.01072591 -0.18829584 -0.44494206 -0.08716374]\n",
            " [-0.12469578 -0.06724205 -0.0276425  -0.4794515  -0.67309639]\n",
            " [-0.28650894 -0.01354429 -0.16624202 -0.30989353 -0.30495742]\n",
            " [-0.04206984 -1.6306627  -2.15211793 -0.40067867 -0.05528301]\n",
            " [-0.35897544 -0.08849011 -0.04099008 -0.07984172 -0.01731883]]\n",
            "\n",
            "[[0.41461737 0.82804133 0.60374668 0.35130991 0.72988675]\n",
            " [0.68194579 0.75559391 0.80657446 0.32550862 0.21068665]\n",
            " [0.49427498 0.82448665 0.63031473 0.47053668 0.47547049]\n",
            " [0.78807438 0.02340441 0.00704496 0.38710114 0.77104139]\n",
            " [0.4237187  0.72817905 0.78946327 0.73932474 0.81971118]]\n",
            "\n",
            "[[0.65385189 0.98772727 0.80510418 0.59914091 0.90451991]\n",
            " [0.86626768 0.92550544 0.96867647 0.57580343 0.46073564]\n",
            " [0.71902755 0.98452751 0.82580781 0.69992778 0.70391673]\n",
            " [0.95271956 0.15299197 0.0839346  0.63046454 0.93833625]\n",
            " [0.66147324 0.90313973 0.95390464 0.91217705 0.98025843]]\n"
          ]
        }
      ]
    },
    {
      "cell_type": "markdown",
      "source": [
        "## Matrix as a `NumPy` array\n",
        "\n",
        "Everything in `NumPy` is an array. A matrix is also an array. Let us create a simple matrix:\n",
        "\n",
        "$$\n",
        "\\textbf{M} = \\begin{bmatrix}\n",
        "1 & 2 & 3\\\\\n",
        "4 & 5 & 6\\\\\n",
        "7 & 8 & 9\n",
        "\\end{bmatrix}\n",
        "$$\n",
        "\n",
        "In `NumPy`:"
      ],
      "metadata": {
        "id": "Ijoi3uu3TqZw"
      }
    },
    {
      "cell_type": "code",
      "source": [
        "M = np.array([[1,2,3],[4,5,6],[7,8,9]])\n",
        "M"
      ],
      "metadata": {
        "colab": {
          "base_uri": "https://localhost:8080/"
        },
        "id": "DGLmx_3jTr_z",
        "outputId": "81fa4426-e3f7-4ffe-af30-f80f699345d1"
      },
      "execution_count": null,
      "outputs": [
        {
          "output_type": "execute_result",
          "data": {
            "text/plain": [
              "array([[1, 2, 3],\n",
              "       [4, 5, 6],\n",
              "       [7, 8, 9]])"
            ]
          },
          "metadata": {},
          "execution_count": 50
        }
      ]
    },
    {
      "cell_type": "markdown",
      "source": [
        "## Adding two matrices\n",
        "\n",
        "Let us now add the following matrices:\n",
        "\n",
        "$$\n",
        "\\textbf{A} = \\begin{bmatrix}\n",
        "1 & 2\\\\\n",
        "3 & 4\n",
        "\\end{bmatrix}, \\textbf{B} = \\begin{bmatrix}\n",
        "5 & 6\\\\\n",
        "7 & 8\n",
        "\\end{bmatrix}\n",
        "$$\n",
        "\n",
        "then,\n",
        "\n",
        "$$\n",
        "\\textbf{C} = \\textbf{A} + \\textbf{B}  = \\begin{bmatrix}\n",
        "6 & 8\\\\\n",
        "10 & 12\n",
        "\\end{bmatrix}\n",
        "$$\n",
        "\n",
        "In `NumPy`:"
      ],
      "metadata": {
        "id": "KQCpL49sTzO9"
      }
    },
    {
      "cell_type": "code",
      "source": [
        "A = np.array([[1,2],[3,4]])\n",
        "B = np.array([[5,6],[7,8]])\n",
        "print(A+B)"
      ],
      "metadata": {
        "colab": {
          "base_uri": "https://localhost:8080/"
        },
        "id": "1S3HJ-twTz4z",
        "outputId": "cb5e8624-2ae3-4fbd-9318-9667e4c116a0"
      },
      "execution_count": null,
      "outputs": [
        {
          "output_type": "stream",
          "name": "stdout",
          "text": [
            "[[ 6  8]\n",
            " [10 12]]\n"
          ]
        }
      ]
    },
    {
      "cell_type": "markdown",
      "source": [
        "## Scaling a matrix\n",
        "\n",
        "Scaling a matrix is nothing but element-wise multiplication:\n",
        "\n",
        "$$\n",
        "\\textbf{M} = \\begin{bmatrix}\n",
        "1 & 2 & 3\\\\\n",
        "4 & 5 & 6\\\\\n",
        "7 & 8 & 9\n",
        "\\end{bmatrix}\n",
        "$$\n",
        "\n",
        "then,\n",
        "\n",
        "$$\n",
        "3 \\textbf{M} = \\begin{bmatrix}\n",
        "3 & 6 & 9\\\\\n",
        "12 & 15 & 18\\\\\n",
        "21 & 24 & 27\n",
        "\\end{bmatrix}\n",
        "$$\n",
        "\n",
        "In `NumPy`:"
      ],
      "metadata": {
        "id": "EEBQYXVlUALA"
      }
    },
    {
      "cell_type": "code",
      "source": [
        "A = np.arange(1,10).reshape(3,3)\n",
        "print(3*A)"
      ],
      "metadata": {
        "colab": {
          "base_uri": "https://localhost:8080/"
        },
        "id": "e-bsN5TQUBNz",
        "outputId": "eb191495-a191-425d-b200-034316b094df"
      },
      "execution_count": null,
      "outputs": [
        {
          "output_type": "stream",
          "name": "stdout",
          "text": [
            "[[ 3  6  9]\n",
            " [12 15 18]\n",
            " [21 24 27]]\n"
          ]
        }
      ]
    },
    {
      "cell_type": "markdown",
      "source": [
        "## Element-wise multiplication of matrices\n",
        "\n",
        "Consider two matrices:\n",
        "\n",
        "$$\n",
        "\\textbf{A} = \\begin{bmatrix}\n",
        "1 & 2\\\\\n",
        "3 & 4\n",
        "\\end{bmatrix}, \\textbf{B} = \\begin{bmatrix}\n",
        "5 & 6\\\\\n",
        "7 & 8\n",
        "\\end{bmatrix}\n",
        "$$\n",
        "\n",
        "The element-wise product is given by $\\textbf{A} \\odot \\textbf{B}$:\n",
        "\n",
        "$$\n",
        "\\textbf{C} = \\textbf{A} \\odot \\textbf{B} = \\begin{bmatrix}\n",
        "5 & 12\\\\\n",
        "21 & 32\n",
        "\\end{bmatrix}\n",
        "$$\n",
        "\n",
        "In `NumPy`:"
      ],
      "metadata": {
        "id": "Fi5qWxUfUayS"
      }
    },
    {
      "cell_type": "code",
      "source": [
        "A = np.array([[1,2],[3,4]])\n",
        "B = np.array([[5,6],[7,8]])\n",
        "print(A*B)"
      ],
      "metadata": {
        "colab": {
          "base_uri": "https://localhost:8080/"
        },
        "id": "eb4tWCrwUbdz",
        "outputId": "69b1321f-e524-4e78-ddc2-4fde25f8efdb"
      },
      "execution_count": null,
      "outputs": [
        {
          "output_type": "stream",
          "name": "stdout",
          "text": [
            "[[ 5 12]\n",
            " [21 32]]\n"
          ]
        }
      ]
    },
    {
      "cell_type": "markdown",
      "source": [
        "### Example-2\n",
        "\n",
        "We might want to square each element of the matrix. If $\\textbf{A}$ is a matrix, then $\\textbf{B}$ could be defined element-wise as follows:\n",
        "\n",
        "$$\n",
        "B_{ij} = A_{ij}^2\n",
        "$$\n",
        "\n",
        "Let us compute $\\mathbf{B}$ for the following matrix:\n",
        "\n",
        "$$\n",
        "\\mathbf{A} = \\begin{bmatrix}\n",
        "1 & \\sqrt{2}\\\\\n",
        "\\sqrt{3} & 2\n",
        "\\end{bmatrix}\n",
        "$$\n",
        "\n",
        "In `NumPy`:"
      ],
      "metadata": {
        "id": "XM2pTO9QVO-4"
      }
    },
    {
      "cell_type": "code",
      "source": [
        "A = np.array([[1 , np.sqrt(2)],[np.sqrt(3),2]]) # np.sqrt() is a mathematical tool for square root of a number\n",
        "B = A**2\n",
        "print(B) # using np.sqrt() will convert the values inside the matrix into float type by default."
      ],
      "metadata": {
        "colab": {
          "base_uri": "https://localhost:8080/"
        },
        "id": "3Pvnf0sIVPoz",
        "outputId": "746972a3-ed68-41e6-866d-e9ef490521fa"
      },
      "execution_count": null,
      "outputs": [
        {
          "output_type": "stream",
          "name": "stdout",
          "text": [
            "[[1. 2.]\n",
            " [3. 4.]]\n"
          ]
        }
      ]
    },
    {
      "cell_type": "markdown",
      "source": [
        "## Transpose of a matrix\n",
        "\n",
        "Given a matrix $\\textbf{M}$:\n",
        "\n",
        "$$\n",
        "\\textbf{M} = \\begin{bmatrix}\n",
        "1 & 2 & 3\\\\\n",
        "4 & 5 & 6\n",
        "\\end{bmatrix}\n",
        "$$\n",
        "\n",
        "then, its transpose $\\textbf{M}^{T}$ is:\n",
        "\n",
        "$$\n",
        "\\textbf{M}^{T} = \\begin{bmatrix}\n",
        "1 & 4\\\\\n",
        "2 & 5\\\\\n",
        "3 & 6\n",
        "\\end{bmatrix}\n",
        "$$\n",
        "\n",
        "In `NumPy`:"
      ],
      "metadata": {
        "id": "gSL1L7m2VZYq"
      }
    },
    {
      "cell_type": "code",
      "source": [
        "M = np.array([[1,2,3],[4,5,6]])\n",
        "y = np.transpose(M)\n",
        "y"
      ],
      "metadata": {
        "colab": {
          "base_uri": "https://localhost:8080/"
        },
        "id": "tyWbjIJyVagi",
        "outputId": "d7685405-81b3-4b7e-c504-f47c2da66280"
      },
      "execution_count": null,
      "outputs": [
        {
          "output_type": "execute_result",
          "data": {
            "text/plain": [
              "array([[1, 4],\n",
              "       [2, 5],\n",
              "       [3, 6]])"
            ]
          },
          "metadata": {},
          "execution_count": 59
        }
      ]
    },
    {
      "cell_type": "code",
      "source": [
        "y = M.T # better option than np.transpose\n",
        "y"
      ],
      "metadata": {
        "colab": {
          "base_uri": "https://localhost:8080/"
        },
        "id": "_pVGOy8uVc3j",
        "outputId": "e86d88b0-04d9-49fd-ebe4-6684489498f7"
      },
      "execution_count": null,
      "outputs": [
        {
          "output_type": "execute_result",
          "data": {
            "text/plain": [
              "array([[1, 4],\n",
              "       [2, 5],\n",
              "       [3, 6]])"
            ]
          },
          "metadata": {},
          "execution_count": 60
        }
      ]
    },
    {
      "cell_type": "markdown",
      "source": [
        "## Products involving matrices and vectors\n",
        "\n",
        "We will look at the following products:\n",
        "- matrix - matrix\n",
        "- matrix - vector\n",
        "- vector - matrix\n",
        "- vector - vector"
      ],
      "metadata": {
        "id": "mlNYoMwIV4JG"
      }
    },
    {
      "cell_type": "markdown",
      "source": [
        "### Product of two matrices\n",
        "\n",
        "Given two matrices:\n",
        "\n",
        "$$\n",
        "\\textbf{A} = \\begin{bmatrix}\n",
        "1 & 2 & 3\\\\\n",
        "4 & 5 & 6\n",
        "\\end{bmatrix}, \\textbf{B} = \\begin{bmatrix}\n",
        "6 & 7\\\\\n",
        "8 & 9\\\\\n",
        "10 & 11\n",
        "\\end{bmatrix}\n",
        "$$\n",
        "\n",
        "then,\n",
        "\n",
        "$$\n",
        "\\textbf{C} = \\textbf{A} \\times \\textbf{B} = \\begin{bmatrix}\n",
        "52 & 58\\\\\n",
        "124 & 139\n",
        "\\end{bmatrix}\n",
        "$$\n",
        "\n",
        "In `NumPy`:"
      ],
      "metadata": {
        "id": "2HaCehRaV9yl"
      }
    },
    {
      "cell_type": "code",
      "source": [
        "A = np.array([[1,2,3],[4,5,6]])\n",
        "B = np.array([[7,8],[9,10],[11,12]])\n",
        "A @ B"
      ],
      "metadata": {
        "colab": {
          "base_uri": "https://localhost:8080/"
        },
        "id": "aaBABEoZV-V_",
        "outputId": "72c240aa-a565-4519-d047-9fae7859bc20"
      },
      "execution_count": null,
      "outputs": [
        {
          "output_type": "execute_result",
          "data": {
            "text/plain": [
              "array([[ 58,  64],\n",
              "       [139, 154]])"
            ]
          },
          "metadata": {},
          "execution_count": 61
        }
      ]
    },
    {
      "cell_type": "markdown",
      "source": [
        "### Product of a matrix and a (column) vector\n",
        "\n",
        "Given the matrix $\\mathbf{A}$ and the vector $\\mathbf{x}$:\n",
        "\n",
        "$$\n",
        "\\mathbf{A} = \\begin{bmatrix}\n",
        "1 & 2 & 3\\\\\n",
        "4 & 5 & 6\\\\\n",
        "7 & 8 & 9\n",
        "\\end{bmatrix}, \\mathbf{x} = \\begin{bmatrix}\n",
        "6\\\\\n",
        "7\\\\\n",
        "8\n",
        "\\end{bmatrix}\n",
        "$$\n",
        "\n",
        "The product $\\mathbf{Ax}$ is given by:\n",
        "\n",
        "$$\n",
        "\\mathbf{C} = \\mathbf{A x} = \\begin{bmatrix}\n",
        "44\\\\\n",
        "107\\\\\n",
        "170\n",
        "\\end{bmatrix}\n",
        "$$\n",
        "\n",
        "In `NumPy`:"
      ],
      "metadata": {
        "id": "vpDZHMe7WRd8"
      }
    },
    {
      "cell_type": "code",
      "source": [
        "A = np.array([[1,2,3],[4,5,6],[7,8,9]])\n",
        "X = np.array([6,7,8])\n",
        "A @ X # here even if you don't give the transposed matrix , it will automatically do the transpose and give you the ccorrect output."
      ],
      "metadata": {
        "colab": {
          "base_uri": "https://localhost:8080/"
        },
        "id": "LIvug-b0WR_n",
        "outputId": "5ab99ee0-81cc-40ad-ab7a-d04fe71a896e"
      },
      "execution_count": null,
      "outputs": [
        {
          "output_type": "execute_result",
          "data": {
            "text/plain": [
              "array([ 44, 107, 170])"
            ]
          },
          "metadata": {},
          "execution_count": 62
        }
      ]
    },
    {
      "cell_type": "markdown",
      "source": [
        "### (Inner) Product of a (row) vector and a (column) vector\n",
        "\n",
        "The product of a row vector and a column vector is nothing but the usual dot product:\n",
        "\n",
        "$$\n",
        "\\mathbf{x}^T = \\begin{bmatrix}\n",
        "1 & 2 & 3\n",
        "\\end{bmatrix}, \\quad\n",
        "\\mathbf{y} = \\begin{bmatrix}\n",
        "4\\\\\n",
        "5\\\\\n",
        "6\n",
        "\\end{bmatrix}\n",
        "$$\n",
        "\n",
        "The product $\\mathbf{x}^T \\mathbf{y}$ is then:\n",
        "\n",
        "$$\n",
        "\\mathbf{x}^T \\mathbf{y} = 32\n",
        "$$\n",
        "\n",
        "In `NumPy`:"
      ],
      "metadata": {
        "id": "5I83YoHSWkvU"
      }
    },
    {
      "cell_type": "code",
      "source": [
        "# you can again use @ here , it will give you the required answer"
      ],
      "metadata": {
        "id": "sptvzQSsWlYO"
      },
      "execution_count": null,
      "outputs": []
    },
    {
      "cell_type": "markdown",
      "source": [
        "## Indexing and Slicing\n",
        "\n",
        "Just like lists in Python, `NumPy` arrays can be indexed and sliced. Slicing is useful if we want to work with a portion of an array. We will look at some examples."
      ],
      "metadata": {
        "id": "JDagK6I1ZEBT"
      }
    },
    {
      "cell_type": "markdown",
      "source": [
        "### Example-1: Row-slice\n",
        "\n",
        "We will extract the third row of the matrix $\\mathbf{M}$:\n",
        "\n",
        "$$\n",
        "\\mathbf{M} = \\begin{bmatrix}\n",
        "1 & 2\\\\\n",
        "3 & 4\\\\\n",
        "5 & 6\\\\\n",
        "7 & 8\\\\\n",
        "9 & 10\n",
        "\\end{bmatrix}\n",
        "$$\n",
        "\n",
        "\n",
        "\n",
        "In `NumPy`:"
      ],
      "metadata": {
        "id": "ZbCaRJyDZFSo"
      }
    },
    {
      "cell_type": "code",
      "source": [
        "V = np.arange(1,11) # it can't shape a 1-D array of prime number of elements to any new shape.\n",
        "V = V.reshape(5,2) # will make our life simpler by converting an array to required shape.\n",
        "# if you set any one parameter to -1 in reshape() funtion will automatically compute the valid value of that particular parameter.\n",
        "V"
      ],
      "metadata": {
        "colab": {
          "base_uri": "https://localhost:8080/"
        },
        "id": "I5xrY8_VWnb1",
        "outputId": "cbe45ff2-0c1d-4b62-a87a-4d96e7c44099"
      },
      "execution_count": null,
      "outputs": [
        {
          "output_type": "execute_result",
          "data": {
            "text/plain": [
              "array([[ 1,  2],\n",
              "       [ 3,  4],\n",
              "       [ 5,  6],\n",
              "       [ 7,  8],\n",
              "       [ 9, 10]])"
            ]
          },
          "metadata": {},
          "execution_count": 64
        }
      ]
    },
    {
      "cell_type": "code",
      "source": [
        "print(V[2]) #for rows you can just simply apply the logic of list indexing method to get your answer."
      ],
      "metadata": {
        "colab": {
          "base_uri": "https://localhost:8080/"
        },
        "id": "p9F-JK5vZKN3",
        "outputId": "1a7a475a-2dd1-4a6d-bc6f-355e44fb3f3a"
      },
      "execution_count": null,
      "outputs": [
        {
          "output_type": "stream",
          "name": "stdout",
          "text": [
            "[5 6]\n"
          ]
        }
      ]
    },
    {
      "cell_type": "markdown",
      "source": [
        "### Example-2: Column slice\n",
        "\n",
        "Let us now extract the second column of the following matrix:\n",
        "\n",
        "$$\n",
        "\\mathbf{M} = \\begin{bmatrix}\n",
        "1 & 2 & 3\\\\\n",
        "4 & 5 & 6\\\\\n",
        "7 & 8 & 9\n",
        "\\end{bmatrix}\n",
        "$$\n",
        "\n",
        "In `NumPy`:"
      ],
      "metadata": {
        "id": "OWYesRApZRnW"
      }
    },
    {
      "cell_type": "code",
      "source": [
        "V = np.arange(1,10).reshape(3,3) # you can attach two functions to make your code shorter.\n",
        "V"
      ],
      "metadata": {
        "colab": {
          "base_uri": "https://localhost:8080/"
        },
        "id": "hu-fhcZqZSM6",
        "outputId": "03729d9f-39ca-4bf7-cf7a-b947e70b80fd"
      },
      "execution_count": null,
      "outputs": [
        {
          "output_type": "execute_result",
          "data": {
            "text/plain": [
              "array([[1, 2, 3],\n",
              "       [4, 5, 6],\n",
              "       [7, 8, 9]])"
            ]
          },
          "metadata": {},
          "execution_count": 66
        }
      ]
    },
    {
      "cell_type": "code",
      "source": [
        "print(V[1,2]) # this simply means traversing to 2nd row and 3rd column\n",
        "print(V[:,1]) # adding a colon means getting all the elements related to that parameter."
      ],
      "metadata": {
        "colab": {
          "base_uri": "https://localhost:8080/"
        },
        "id": "JUWK5Q0MZVwS",
        "outputId": "68bd3034-fb67-4d81-c407-5779fb11211c"
      },
      "execution_count": null,
      "outputs": [
        {
          "output_type": "stream",
          "name": "stdout",
          "text": [
            "6\n",
            "[2 5 8]\n"
          ]
        }
      ]
    },
    {
      "cell_type": "markdown",
      "source": [
        "### Example-3: Submatrix slice\n",
        "\n",
        "Now, we want to extract the $2 \\times 2$ submatrix colored in blue from $M$:\n",
        "\n",
        "$$\n",
        "\\mathbf{M} = \\begin{bmatrix}\n",
        "1 & 2 & 3 & 4\\\\\n",
        "5 & 6 & \\color{blue}7 & \\color{blue}8\\\\\n",
        "9 & 10 & \\color{blue}{11} & \\color{blue}{12}\\\\\n",
        "13 & 14 & 15 & 16\n",
        "\\end{bmatrix}\n",
        "$$\n",
        "\n",
        "In `NumPy`:"
      ],
      "metadata": {
        "id": "4XkgCvidZeh3"
      }
    },
    {
      "cell_type": "code",
      "source": [
        "V = np.arange(1,17).reshape(4,4)\n",
        "V"
      ],
      "metadata": {
        "colab": {
          "base_uri": "https://localhost:8080/"
        },
        "id": "C2H8AIQ9ZYFi",
        "outputId": "f806b105-7617-4075-da99-8cabdb509bcc"
      },
      "execution_count": null,
      "outputs": [
        {
          "output_type": "execute_result",
          "data": {
            "text/plain": [
              "array([[ 1,  2,  3,  4],\n",
              "       [ 5,  6,  7,  8],\n",
              "       [ 9, 10, 11, 12],\n",
              "       [13, 14, 15, 16]])"
            ]
          },
          "metadata": {},
          "execution_count": 68
        }
      ]
    },
    {
      "cell_type": "code",
      "source": [
        "# In line 22 , we just used 1 number for input in row and column , but we can give a series\n",
        "# of rows and columns as input which will enable us to use submatrix slice\n",
        "\n",
        "V[1:3 , 2:4] #here we used '1:3' to specify that we wan't 2nd to 3rd row. we used '2:4' to\n",
        "# specify that we want from column 3 to 4 . And hence u can see the result."
      ],
      "metadata": {
        "colab": {
          "base_uri": "https://localhost:8080/"
        },
        "id": "VBzkaYhgZhyK",
        "outputId": "58896f4b-ce31-4fa6-c01e-ad4e47d4f427"
      },
      "execution_count": null,
      "outputs": [
        {
          "output_type": "execute_result",
          "data": {
            "text/plain": [
              "array([[ 7,  8],\n",
              "       [11, 12]])"
            ]
          },
          "metadata": {},
          "execution_count": 69
        }
      ]
    },
    {
      "cell_type": "markdown",
      "source": [
        "## Matrix algebra\n",
        "\n",
        "There are several important matrix operations that we will list down here. The `np.linalg` module helps us perform these operations effortlessly."
      ],
      "metadata": {
        "id": "RUmn2PA5ZnT8"
      }
    },
    {
      "cell_type": "markdown",
      "source": [
        "## Rank, Inverse\n",
        "\n",
        "We can get the rank of a matrix and its inverse as follows:"
      ],
      "metadata": {
        "id": "5jntL27JZqil"
      }
    },
    {
      "cell_type": "code",
      "source": [
        "V[1,2]=22  # changed an element in previous matrix , as that was a singular matrix , whose inverse is not possible.\n",
        "\n",
        "# rank\n",
        "\n",
        "print(np.linalg.matrix_rank(V))\n",
        "\n",
        "# inverse\n",
        "\n",
        "print(np.linalg.inv(V))"
      ],
      "metadata": {
        "colab": {
          "base_uri": "https://localhost:8080/"
        },
        "id": "J-rEegvJZkNK",
        "outputId": "494c221d-db46-45eb-8211-223fd17daa17"
      },
      "execution_count": null,
      "outputs": [
        {
          "output_type": "stream",
          "name": "stdout",
          "text": [
            "3\n",
            "[[ 3.75299969e+14 -6.66666667e-02 -1.12589991e+15  7.50599938e+14]\n",
            " [-5.62949953e+14  6.66666667e-02  1.68884986e+15 -1.12589991e+15]\n",
            " [-5.55555556e-02  6.66666667e-02  3.33333333e-02 -4.44444444e-02]\n",
            " [ 1.87649984e+14 -6.66666667e-02 -5.62949953e+14  3.75299969e+14]]\n"
          ]
        }
      ]
    },
    {
      "cell_type": "markdown",
      "source": [
        "### Pseuodoinverse\n",
        "\n",
        "The pseudoinverse $\\mathbf{M}^{\\dagger}$ of a matrix $\\mathbf{M}$ with real entries satisfies the following properties:\n",
        "\n",
        "- $\\mathbf{M} \\mathbf{M}^{\\dagger} \\mathbf{M} = \\mathbf{M}$\n",
        "- $\\mathbf{M}^{\\dagger} \\mathbf{M} \\mathbf{M} = \\mathbf{M}^{\\dagger}$\n",
        "- $\\mathbf{M} \\mathbf{M}^{\\dagger}$ is symmetric\n",
        "- $\\mathbf{M}^{\\dagger} \\mathbf{M}$ is symmetric\n",
        "\n",
        "Let us go ahead and verify this for the following matrix:\n",
        "\n",
        "$$\n",
        "\\mathbf{M} = \\begin{bmatrix}\n",
        "1 & 2 & 3\\\\\n",
        "3 & 6 & 9\n",
        "\\end{bmatrix}\n",
        "$$\n",
        "\n",
        "Note: For a complete list of properties of the pseudoinverse, check out this [link](https://en.wikipedia.org/wiki/Moore%E2%80%93Penrose_inverse#Definition)."
      ],
      "metadata": {
        "id": "8ptmGd04Zw-_"
      }
    },
    {
      "cell_type": "code",
      "source": [
        "M = np.array([[1,2,3],[3,6,9]])\n",
        "print(np.linalg.matrix_rank(M))\n",
        "print(np.linalg.pinv(M)) # pseudo-inverse"
      ],
      "metadata": {
        "colab": {
          "base_uri": "https://localhost:8080/"
        },
        "id": "FV4T10TXZtA6",
        "outputId": "a35e51f8-8c38-4b64-925e-07499b0cd7e3"
      },
      "execution_count": null,
      "outputs": [
        {
          "output_type": "stream",
          "name": "stdout",
          "text": [
            "1\n",
            "[[0.00714286 0.02142857]\n",
            " [0.01428571 0.04285714]\n",
            " [0.02142857 0.06428571]]\n"
          ]
        }
      ]
    },
    {
      "cell_type": "markdown",
      "source": [
        "## Eigenvalues and Eigenvectors\n",
        "\n",
        "Given a symmetric matrix $\\mathbf{M}$ let us find its eigenvalues and eigenvectors:\n",
        "\n",
        "$$\n",
        "\\mathbf{M} = \\begin{bmatrix}\n",
        "1 & 0 & -3\\\\\n",
        "0 & 5 & 2\\\\\n",
        "-3 & 2 & 8\n",
        "\\end{bmatrix}\n",
        "$$"
      ],
      "metadata": {
        "id": "hFx3vLAEZ3G-"
      }
    },
    {
      "cell_type": "code",
      "source": [
        "M = np.array([[1,0,-3],[0,5,2],[-3,2,8]])\n",
        "\n",
        "eigen_values , eigen_vector = np.linalg.eigh(M) # linal.eigh() returns two values , the 1st one is eigne values and 2nd is corresponding eigen vectors.\n",
        "\n",
        "print(eigen_values , eigen_vector)"
      ],
      "metadata": {
        "colab": {
          "base_uri": "https://localhost:8080/"
        },
        "id": "xa--ZeKbZ0CC",
        "outputId": "05c06e70-dffb-4d28-c70a-5a940414ae55"
      },
      "execution_count": null,
      "outputs": [
        {
          "output_type": "stream",
          "name": "stdout",
          "text": [
            "[-0.20942046  4.36588492  9.84353554] [[ 0.91805853  0.26010485 -0.2991889 ]\n",
            " [-0.14209114  0.92042494  0.36418131]\n",
            " [ 0.37010626 -0.29182767  0.88196257]]\n"
          ]
        }
      ]
    },
    {
      "cell_type": "code",
      "source": [],
      "metadata": {
        "id": "XAGUhnguZ6Cq"
      },
      "execution_count": null,
      "outputs": []
    }
  ]
}