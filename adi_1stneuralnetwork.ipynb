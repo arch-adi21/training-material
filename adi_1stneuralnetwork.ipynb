{
  "nbformat": 4,
  "nbformat_minor": 0,
  "metadata": {
    "colab": {
      "provenance": []
    },
    "kernelspec": {
      "name": "python3",
      "display_name": "Python 3"
    },
    "language_info": {
      "name": "python"
    }
  },
  "cells": [
    {
      "cell_type": "markdown",
      "source": [
        "## Neural Network from scratch by Aditya"
      ],
      "metadata": {
        "id": "zubpNd3JaEIA"
      }
    },
    {
      "cell_type": "markdown",
      "source": [
        "In this code we are going to learn how to create our own neural network right from very scratch."
      ],
      "metadata": {
        "id": "3-DtS_LTZ7zT"
      }
    },
    {
      "cell_type": "code",
      "execution_count": 1,
      "metadata": {
        "id": "FCvIZ8YBZ2Oz"
      },
      "outputs": [],
      "source": [
        "import numpy as np"
      ]
    },
    {
      "cell_type": "code",
      "source": [
        "def sigmoid(x):\n",
        "  return 1/(1+np.exp(-x))  # We created a sigmoid function for activation purpose"
      ],
      "metadata": {
        "id": "PQOs4U_AaLnx"
      },
      "execution_count": 2,
      "outputs": []
    },
    {
      "cell_type": "code",
      "source": [
        "def FNN(inputs,targets,epochs,lrate):\n",
        "  w1 = np.random.rand(2,5)\n",
        "  w2 = np.random.rand(5,1)\n",
        "\n",
        "  for epoch in range(epochs):\n",
        "\n",
        "    # This is forward propagation\n",
        "    layer1 = sigmoid(np.dot(inputs,w1))\n",
        "    output = sigmoid(np.dot(layer1,w2))\n",
        "\n",
        "    # Calculating the error in the most siple way\n",
        "    error = targets-output\n",
        "\n",
        "    # Back propagation starts here\n",
        "    up2 = 2*error*output*(1-output)\n",
        "    up1 = 2*up2.dot(w2.T)*layer1*(1-layer1)\n",
        "\n",
        "    #Updating the weights according to the back propagation results\n",
        "    w2 += lrate*layer1.T.dot(up2)\n",
        "    w1 += lrate*inputs.T.dot(up1)\n",
        "\n",
        "  return np.round(output.squeeze())"
      ],
      "metadata": {
        "id": "nk1CZtI4aa26"
      },
      "execution_count": 8,
      "outputs": []
    },
    {
      "cell_type": "code",
      "source": [
        "input = np.array([[0,1],[0,0],[1,1],[1,0],[0,1]])\n",
        "print(\"Here is a map AND function trained over a self built NN :\")\n",
        "print(FNN(input , np.array([[0],[0],[1],[0],[0]]),10000,0.112))"
      ],
      "metadata": {
        "colab": {
          "base_uri": "https://localhost:8080/"
        },
        "id": "gmCIOdbfg4Ot",
        "outputId": "a8adcba1-bf8b-422b-ba91-baca7c26cdf1"
      },
      "execution_count": 9,
      "outputs": [
        {
          "output_type": "stream",
          "name": "stdout",
          "text": [
            "Here is a map AND function trained over a self built NN :\n",
            "[0. 0. 1. 0. 0.]\n"
          ]
        }
      ]
    }
  ]
}