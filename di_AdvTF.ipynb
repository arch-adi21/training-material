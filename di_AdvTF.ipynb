{
  "nbformat": 4,
  "nbformat_minor": 0,
  "metadata": {
    "colab": {
      "provenance": []
    },
    "kernelspec": {
      "name": "python3",
      "display_name": "Python 3"
    },
    "language_info": {
      "name": "python"
    }
  },
  "cells": [
    {
      "cell_type": "markdown",
      "source": [
        "# Tensorflow Advanced by Aditya"
      ],
      "metadata": {
        "id": "y0T9qBofudzU"
      }
    },
    {
      "cell_type": "markdown",
      "source": [
        "## The architecture\n",
        "\n",
        "* The data in a tnesor is stored in a graph which contains the information about data and pre-planned execution/operations.\n",
        "\n",
        "* Direct operations were not allowed in TF 1.x , but from 2.x onwwards direct operations on Tensors are allowed , which is called the eager execution.\n",
        "\n",
        "* For executing operations we used sessions in TF 1.x , which will manage resource allocation , Life cycle management , parallel execution and variable persistence."
      ],
      "metadata": {
        "id": "C4FTt_a7uj8j"
      }
    },
    {
      "cell_type": "code",
      "execution_count": 1,
      "metadata": {
        "colab": {
          "base_uri": "https://localhost:8080/"
        },
        "id": "x5SeBelNtNAk",
        "outputId": "e5ab951c-a7f0-409e-ee11-1d16722d1ac6"
      },
      "outputs": [
        {
          "output_type": "stream",
          "name": "stdout",
          "text": [
            "Colab only includes TensorFlow 2.x; %tensorflow_version has no effect.\n",
            "<module 'tensorflow._api.v2.version' from '/usr/local/lib/python3.10/dist-packages/tensorflow/_api/v2/version/__init__.py'>\n"
          ]
        }
      ],
      "source": [
        "%tensorflow_version 2.x\n",
        "\n",
        "import tensorflow as tf\n",
        "\n",
        "print(tf.version)"
      ]
    },
    {
      "cell_type": "code",
      "source": [
        "import tensorflow as tf\n",
        "\n",
        "# Direct addition with eager execution (TensorFlow 2.x)\n",
        "tf.config.run_functions_eagerly(True)\n",
        "\n",
        "a = tf.constant(2.0)\n",
        "b = tf.constant(3.0)\n",
        "c = a + b  # Direct addition, executed immediately\n",
        "\n",
        "print(\"Result:\", c)  # Outputs: Result: 5.0\n"
      ],
      "metadata": {
        "colab": {
          "base_uri": "https://localhost:8080/"
        },
        "id": "Xi2ofVaYxHcV",
        "outputId": "1654f8d8-4e39-43d8-e82a-414e44336dd6"
      },
      "execution_count": 2,
      "outputs": [
        {
          "output_type": "stream",
          "name": "stdout",
          "text": [
            "Result: tf.Tensor(5.0, shape=(), dtype=float32)\n"
          ]
        }
      ]
    },
    {
      "cell_type": "code",
      "source": [
        "print('For better representation you can use c.numpy() and here is the outpu :-' , c.numpy())"
      ],
      "metadata": {
        "colab": {
          "base_uri": "https://localhost:8080/"
        },
        "id": "tU5UZp6XxpWx",
        "outputId": "cea9e2b7-ad2c-466c-d1c8-d14f5403067b"
      },
      "execution_count": 3,
      "outputs": [
        {
          "output_type": "stream",
          "name": "stdout",
          "text": [
            "For better representation you can use c.numpy() and here is the outpu :- 5.0\n"
          ]
        }
      ]
    },
    {
      "cell_type": "code",
      "source": [
        "# Using the session :-\n",
        "\n",
        "# with tf.Session() as sess:\n",
        "#     result = sess.run(c)\n",
        "#     print(\"Result:\", result)\n",
        "\n",
        "\n",
        "# this code will throw error as the session() is removed from version 2.x"
      ],
      "metadata": {
        "id": "OYGMg6t9x7P0"
      },
      "execution_count": 4,
      "outputs": []
    },
    {
      "cell_type": "markdown",
      "source": [
        "## Types of tensors :-\n",
        "\n",
        "\n",
        "1.   0D tensor :- also known as scalar tensor, this supports only one constant value in it.\n",
        "2.   1D Tensor :- This tensor stores a 1D array\n",
        "* Similarly we can extend these types upto nD vectors. There was one type , named as placeholder , but is depriciated with 2.x update , so we can ignore that.\n",
        "\n"
      ],
      "metadata": {
        "id": "x-j2hbxv0gva"
      }
    },
    {
      "cell_type": "code",
      "source": [
        "import tensorflow as tf\n",
        "\n",
        "# Creating tensors\n",
        "a = tf.constant([1, 2, 3])\n",
        "b = tf.constant([4, 5, 6])\n",
        "\n",
        "# Addition\n",
        "addition_result = tf.add(a, b)\n",
        "print(\"Addition Result:\", addition_result.numpy())\n",
        "\n",
        "# Element-wise multiplication\n",
        "elementwise_mul_result = tf.multiply(a, b)\n",
        "print(\"Element-wise Multiplication Result:\", elementwise_mul_result.numpy())\n",
        "\n",
        "# Matrix multiplication\n",
        "matrix_a = tf.constant([[1, 2], [3, 4]])\n",
        "matrix_b = tf.constant([[5, 6], [7, 8]])\n",
        "matrix_mul_result = tf.matmul(matrix_a, matrix_b)\n",
        "print(\"Matrix Multiplication Result:\")\n",
        "print(matrix_mul_result.numpy())\n"
      ],
      "metadata": {
        "id": "P-fX5QiQyD0f",
        "colab": {
          "base_uri": "https://localhost:8080/"
        },
        "outputId": "0957e5b4-fb54-4570-8e8a-343c0f87c447"
      },
      "execution_count": 5,
      "outputs": [
        {
          "output_type": "stream",
          "name": "stdout",
          "text": [
            "Addition Result: [5 7 9]\n",
            "Element-wise Multiplication Result: [ 4 10 18]\n",
            "Matrix Multiplication Result:\n",
            "[[19 22]\n",
            " [43 50]]\n"
          ]
        }
      ]
    },
    {
      "cell_type": "markdown",
      "source": [
        "## Creating a bit more customizable neural network using tensorflow\n"
      ],
      "metadata": {
        "id": "eFNrzf5SUIfX"
      }
    },
    {
      "cell_type": "code",
      "source": [
        "import tensorflow as tf\n",
        "import numpy as np\n",
        "\n",
        "# XOR input and output\n",
        "X_train = np.array([[0, 0], [0, 1], [1, 0], [1, 1]], dtype=np.float32)\n",
        "y_train = np.array([[0], [1], [1], [0]], dtype=np.float32)\n",
        "\n",
        "# Convert data to TensorFlow tensors\n",
        "X_train_tensor = tf.convert_to_tensor(X_train, dtype=tf.float32)\n",
        "y_train_tensor = tf.convert_to_tensor(y_train, dtype=tf.float32)\n",
        "\n",
        "# Define hyperparameters\n",
        "learning_rate = 0.1\n",
        "epochs = 10000\n",
        "hidden_units = 2\n",
        "\n",
        "# Define weights and biases\n",
        "weights_hidden = tf.Variable(tf.random.normal([2, hidden_units], stddev=0.1))\n",
        "bias_hidden = tf.Variable(tf.zeros([hidden_units]))\n",
        "\n",
        "weights_output = tf.Variable(tf.random.normal([hidden_units, 1], stddev=0.1))\n",
        "bias_output = tf.Variable(tf.zeros([1]))\n",
        "\n",
        "# Define the neural network\n",
        "def neural_network(x):\n",
        "    # Hidden layer\n",
        "    hidden_layer = tf.nn.sigmoid(tf.matmul(x, weights_hidden) + bias_hidden)\n",
        "    # Output layer\n",
        "    output_layer = tf.nn.sigmoid(tf.matmul(hidden_layer, weights_output) + bias_output)\n",
        "    return output_layer\n",
        "\n",
        "# Define the loss function (binary crossentropy)\n",
        "def loss(y_true, y_pred):\n",
        "    return tf.reduce_mean(tf.keras.losses.binary_crossentropy(y_true, y_pred))\n",
        "\n",
        "# Define the optimizer\n",
        "optimizer = tf.optimizers.SGD(learning_rate)\n",
        "\n",
        "# Training loop\n",
        "for epoch in range(epochs):\n",
        "    # Forward pass\n",
        "    with tf.GradientTape() as tape:\n",
        "        predictions = neural_network(X_train_tensor)\n",
        "        current_loss = loss(y_train_tensor, predictions)\n",
        "\n",
        "    # Backward pass\n",
        "    gradients = tape.gradient(current_loss, [weights_hidden, bias_hidden, weights_output, bias_output])\n",
        "    optimizer.apply_gradients(zip(gradients, [weights_hidden, bias_hidden, weights_output, bias_output]))\n",
        "\n",
        "    # Print the loss every 1000 epochs\n",
        "    if (epoch + 1) % 1000 == 0:\n",
        "        print(f'Epoch {epoch + 1}/{epochs}, Loss: {current_loss.numpy()}')\n",
        "\n",
        "# Make predictions on XOR inputs\n",
        "predictions = neural_network(X_train_tensor)\n",
        "\n",
        "print(\"\\nPredictions on XOR inputs:\")\n",
        "print(predictions.numpy())\n"
      ],
      "metadata": {
        "colab": {
          "base_uri": "https://localhost:8080/"
        },
        "id": "9iFKzrOOUTJ_",
        "outputId": "400f66cd-81fc-4c6f-963f-67a8cd0846c7"
      },
      "execution_count": 6,
      "outputs": [
        {
          "output_type": "stream",
          "name": "stdout",
          "text": [
            "Epoch 1000/10000, Loss: 0.6931488513946533\n",
            "Epoch 2000/10000, Loss: 0.6931446194648743\n",
            "Epoch 3000/10000, Loss: 0.6931400299072266\n",
            "Epoch 4000/10000, Loss: 0.6931347846984863\n",
            "Epoch 5000/10000, Loss: 0.6931276321411133\n",
            "Epoch 6000/10000, Loss: 0.6931168437004089\n",
            "Epoch 7000/10000, Loss: 0.6930987238883972\n",
            "Epoch 8000/10000, Loss: 0.6930642127990723\n",
            "Epoch 9000/10000, Loss: 0.6929855346679688\n",
            "Epoch 10000/10000, Loss: 0.6927503943443298\n",
            "\n",
            "Predictions on XOR inputs:\n",
            "[[0.49445358]\n",
            " [0.5000885 ]\n",
            " [0.5013217 ]\n",
            " [0.5060929 ]]\n"
          ]
        }
      ]
    },
    {
      "cell_type": "markdown",
      "source": [
        "## Mathematics behind binary cross-entropy:\n",
        "\n",
        "Binary cross-entropy measures the difference between the true labels and the predicted probabilities in a binary classification problem. For each individual sample:\n",
        "\n",
        "If the true label is 0 (negative class) and the predicted probability is p (between 0 and 1), the cross-entropy is calculated as: -log(1 - p)\n",
        "If the true label is 1 (positive class) and the predicted probability is p, the cross-entropy is: -log(p)\n",
        "The negative log ensures that predictions closer to the true label (i.e., p close to 1 for positive class and p close to 0 for negative class) will result in lower loss values."
      ],
      "metadata": {
        "id": "Zr1h8lq7U7lL"
      }
    },
    {
      "cell_type": "markdown",
      "source": [
        "# Introduction to keras API\n",
        "\n",
        "**Keras is a high-level, user-friendly API written in Python that makes building and training deep learning models much easier.**\n",
        "\n",
        "### **Understanding Backends:**\n",
        "\n",
        "Imagine backends like TensorFlow, PyTorch, or CNTK as the engines of deep learning computations. They handle the heavy lifting of numerical operations, memory management, and hardware acceleration.\n",
        "\n",
        "Think of backends as low-level libraries written in C or C++ for maximum performance.\n",
        "\n",
        "###**Keras as the User-Friendly Facade:**\n",
        "\n",
        "Keras sits on top of these backends like a high-level API. It doesn't implement the core algorithms itself, but provides an intuitive interface for users to interact with them.\n",
        "\n",
        "Instead of writing low-level code specific to each backend, you can use Keras's Pythonic syntax to define your model architecture, select layers, and configure training parameters.\n",
        "\n",
        "### **Analogy: Building a House:**\n",
        "\n",
        "Think of constructing a house. The concrete, bricks, and wood (represented by the backend) are essential building materials.\n",
        "\n",
        "But you wouldn't directly handle individual bricks or complex construction techniques. That's where an architect (like Keras) comes in.\n",
        "\n",
        "The architect provides blueprints, specifies layouts, and chooses materials (layers) without getting into the nitty-gritty of every brick or beam.\n",
        "\n",
        "## **Understanding Keras usability**\n",
        "\n",
        "**Ease of Use:** Keras excels in simplifying deep learning with intuitive APIs and minimal boilerplate code, making it ideal for both beginners and advanced users.\n",
        "\n",
        "**Efficiency:** It leverages powerful backends like TensorFlow, Theano, or CNTK for efficient computation on CPUs, GPUs, and TPUs.\n",
        "\n",
        "**Flexibility:** Offers extensive layer types, optimization algorithms, and loss functions to address diverse neural network architectures and learning tasks.\n",
        "\n",
        "**Extensibility:** Seamlessly integrates with other scientific Python libraries like NumPy, SciPy, and Matplotlib for data manipulation and visualization.\n",
        "\n",
        "**Active Community:** Keras benefits from a large and supportive community that contributes tutorials, code examples, and discussions.\n",
        "\n",
        "### **Key Concepts:**\n",
        "\n",
        "**Modules:** Keras provides core modules for model building (models), layer construction (layers), optimization (optimizers), evaluation (metrics), and datasets (datasets).\n",
        "\n",
        "**Models:** Represent deep learning architectures, comprising sequential or functional layers.\n",
        "\n",
        "**Layers:** Building blocks of models, performing specific operations on data (dense layers for linear transformations, convolutional layers for image processing, etc.).\n",
        "\n",
        "**Losses and Metrics:** Quantify model performance during training and evaluation (e.g., mean squared error for regression, categorical cross-entropy for classification).\n",
        "\n",
        "**Optimizers:** Guide the model's learning by updating weights according to a chosen algorithm (e.g., Adam, SGD)."
      ],
      "metadata": {
        "id": "ZQd1J7kwWrMv"
      }
    },
    {
      "cell_type": "markdown",
      "source": [
        "-------------"
      ],
      "metadata": {
        "id": "OQhWua5OZ7Zz"
      }
    },
    {
      "cell_type": "markdown",
      "source": [
        "## Models in keras\n",
        "\n",
        "\n",
        "\n",
        "*   Represent the overall deep learning architecture you're building.\n",
        "\n",
        "\n",
        "Keras offers two primary APIs for model construction :\n"
      ],
      "metadata": {
        "id": "H3fjefCjZ_Eu"
      }
    },
    {
      "cell_type": "markdown",
      "source": [
        "### 1. **Sequential API** :-\n",
        "The Sequential API in Keras is a high-level interface for constructing simple, linear deep learning models. It's particularly suitable for scenarios where your model stacks layers consecutively, following a clear input-to-output flow.\n",
        "\n",
        "**Key Characteristics:**\n",
        "\n",
        "\n",
        "*   **Ease of Use:** The Sequential API offers a straightforward syntax, allowing you to quickly define models layer by layer with minimal code.\n",
        "*   **Structure**: Models built with the Sequential API consist of a linear sequence of layers, where the output of one layer becomes the input of the next.\n",
        "*   **Limitations**: Due to its sequential nature, it's primarily used for models that don't require branching, merging, or multiple inputs/outputs.\n",
        "\n"
      ],
      "metadata": {
        "id": "JrQYUEfKbxWG"
      }
    },
    {
      "cell_type": "code",
      "source": [
        "from tensorflow.keras import Sequential, layers\n"
      ],
      "metadata": {
        "id": "_Ch-F0c6cQL5"
      },
      "execution_count": 29,
      "outputs": []
    },
    {
      "cell_type": "code",
      "source": [
        "#Create a Sequential Model\n",
        "model = Sequential()"
      ],
      "metadata": {
        "id": "wgid2lhnc35x"
      },
      "execution_count": 34,
      "outputs": []
    },
    {
      "cell_type": "code",
      "source": [
        "#Add Layers:\n",
        "\n",
        "#Use the add() method to consecutively add layers to your model\n",
        "\n",
        "model.add(layers.Dense(5, activation='relu', input_shape=(2,)))  # Input layer with 2 features\n",
        "model.add(layers.Dense(1, activation='sigmoid'))  # Output layer with 1 neuron and sigmoid activation for binary classification"
      ],
      "metadata": {
        "id": "q2tQiH-PdDXY"
      },
      "execution_count": 35,
      "outputs": []
    },
    {
      "cell_type": "markdown",
      "source": [
        "**Dense(units, activation):** Creates a fully connected layer with units neurons and the specified activation function.\n",
        "\n",
        "**input_shape:** Only required for the first layer, specifying the data's input shape (e.g., (28, 28, 1) for 28x28 grayscale images).\n"
      ],
      "metadata": {
        "id": "WgQrKzXudN2D"
      }
    },
    {
      "cell_type": "code",
      "source": [
        "#Compile the Model\n",
        "\n",
        "#Define the optimizer, loss function, and metrics to guide the training process\n",
        "\n",
        "model.compile(optimizer='adam', loss='binary_crossentropy', metrics=['accuracy'])"
      ],
      "metadata": {
        "id": "X2Yj_0lHdgyo"
      },
      "execution_count": 36,
      "outputs": []
    },
    {
      "cell_type": "code",
      "source": [
        "from sklearn.model_selection import train_test_split\n",
        "\n",
        "#Train and Evaluate the Model\n",
        "X = [[0, 0], [0, 1], [1, 0], [1, 1]]\n",
        "y = [0, 1, 1, 1]\n",
        "\n",
        "# Split data into training and testing sets\n",
        "X_train, X_test, y_train, y_test = train_test_split(X, y, test_size=0.2, random_state=42)\n",
        "\n",
        "model.fit(X_train, y_train, epochs=100)\n",
        "loss, accuracy = model.evaluate(X_test, y_test)\n",
        "print('Accuracy:', accuracy)\n"
      ],
      "metadata": {
        "colab": {
          "base_uri": "https://localhost:8080/"
        },
        "id": "h_nq073ndnQB",
        "outputId": "69da89b3-7864-404d-f976-797643b8fa5f"
      },
      "execution_count": 37,
      "outputs": [
        {
          "output_type": "stream",
          "name": "stdout",
          "text": [
            "Epoch 1/100\n",
            "1/1 [==============================] - 0s 39ms/step - loss: 0.4216 - accuracy: 1.0000\n",
            "Epoch 2/100\n",
            "1/1 [==============================] - 0s 21ms/step - loss: 0.4210 - accuracy: 0.6667\n",
            "Epoch 3/100\n",
            "1/1 [==============================] - 0s 21ms/step - loss: 0.4203 - accuracy: 0.6667\n",
            "Epoch 4/100\n",
            "1/1 [==============================] - 0s 22ms/step - loss: 0.4196 - accuracy: 0.6667\n",
            "Epoch 5/100\n",
            "1/1 [==============================] - 0s 22ms/step - loss: 0.4190 - accuracy: 1.0000\n",
            "Epoch 6/100\n",
            "1/1 [==============================] - 0s 22ms/step - loss: 0.4183 - accuracy: 1.0000\n",
            "Epoch 7/100\n",
            "1/1 [==============================] - 0s 21ms/step - loss: 0.4177 - accuracy: 1.0000\n",
            "Epoch 8/100\n",
            "1/1 [==============================] - 0s 24ms/step - loss: 0.4170 - accuracy: 1.0000\n",
            "Epoch 9/100\n",
            "1/1 [==============================] - 0s 24ms/step - loss: 0.4163 - accuracy: 1.0000\n",
            "Epoch 10/100\n",
            "1/1 [==============================] - 0s 21ms/step - loss: 0.4157 - accuracy: 1.0000\n",
            "Epoch 11/100\n",
            "1/1 [==============================] - 0s 20ms/step - loss: 0.4150 - accuracy: 1.0000\n",
            "Epoch 12/100\n",
            "1/1 [==============================] - 0s 22ms/step - loss: 0.4143 - accuracy: 1.0000\n",
            "Epoch 13/100\n",
            "1/1 [==============================] - 0s 24ms/step - loss: 0.4136 - accuracy: 1.0000\n",
            "Epoch 14/100\n",
            "1/1 [==============================] - 0s 22ms/step - loss: 0.4130 - accuracy: 1.0000\n",
            "Epoch 15/100\n",
            "1/1 [==============================] - 0s 21ms/step - loss: 0.4123 - accuracy: 1.0000\n",
            "Epoch 16/100\n",
            "1/1 [==============================] - 0s 21ms/step - loss: 0.4117 - accuracy: 1.0000\n",
            "Epoch 17/100\n",
            "1/1 [==============================] - 0s 21ms/step - loss: 0.4110 - accuracy: 1.0000\n",
            "Epoch 18/100\n",
            "1/1 [==============================] - 0s 21ms/step - loss: 0.4103 - accuracy: 1.0000\n",
            "Epoch 19/100\n",
            "1/1 [==============================] - 0s 23ms/step - loss: 0.4097 - accuracy: 1.0000\n",
            "Epoch 20/100\n",
            "1/1 [==============================] - 0s 26ms/step - loss: 0.4090 - accuracy: 1.0000\n",
            "Epoch 21/100\n",
            "1/1 [==============================] - 0s 24ms/step - loss: 0.4084 - accuracy: 1.0000\n",
            "Epoch 22/100\n",
            "1/1 [==============================] - 0s 24ms/step - loss: 0.4077 - accuracy: 1.0000\n",
            "Epoch 23/100\n",
            "1/1 [==============================] - 0s 29ms/step - loss: 0.4071 - accuracy: 1.0000\n",
            "Epoch 24/100\n",
            "1/1 [==============================] - 0s 23ms/step - loss: 0.4064 - accuracy: 1.0000\n",
            "Epoch 25/100\n",
            "1/1 [==============================] - 0s 24ms/step - loss: 0.4058 - accuracy: 1.0000\n",
            "Epoch 26/100\n",
            "1/1 [==============================] - 0s 25ms/step - loss: 0.4051 - accuracy: 1.0000\n",
            "Epoch 27/100\n",
            "1/1 [==============================] - 0s 26ms/step - loss: 0.4044 - accuracy: 1.0000\n",
            "Epoch 28/100\n",
            "1/1 [==============================] - 0s 25ms/step - loss: 0.4038 - accuracy: 1.0000\n",
            "Epoch 29/100\n",
            "1/1 [==============================] - 0s 25ms/step - loss: 0.4031 - accuracy: 1.0000\n",
            "Epoch 30/100\n",
            "1/1 [==============================] - 0s 28ms/step - loss: 0.4025 - accuracy: 1.0000\n",
            "Epoch 31/100\n",
            "1/1 [==============================] - 0s 25ms/step - loss: 0.4018 - accuracy: 1.0000\n",
            "Epoch 32/100\n",
            "1/1 [==============================] - 0s 26ms/step - loss: 0.4012 - accuracy: 1.0000\n",
            "Epoch 33/100\n",
            "1/1 [==============================] - 0s 25ms/step - loss: 0.4005 - accuracy: 1.0000\n",
            "Epoch 34/100\n",
            "1/1 [==============================] - 0s 21ms/step - loss: 0.3999 - accuracy: 1.0000\n",
            "Epoch 35/100\n",
            "1/1 [==============================] - 0s 21ms/step - loss: 0.3993 - accuracy: 1.0000\n",
            "Epoch 36/100\n",
            "1/1 [==============================] - 0s 24ms/step - loss: 0.3986 - accuracy: 1.0000\n",
            "Epoch 37/100\n",
            "1/1 [==============================] - 0s 23ms/step - loss: 0.3980 - accuracy: 1.0000\n",
            "Epoch 38/100\n",
            "1/1 [==============================] - 0s 22ms/step - loss: 0.3974 - accuracy: 1.0000\n",
            "Epoch 39/100\n",
            "1/1 [==============================] - 0s 20ms/step - loss: 0.3967 - accuracy: 1.0000\n",
            "Epoch 40/100\n",
            "1/1 [==============================] - 0s 23ms/step - loss: 0.3961 - accuracy: 1.0000\n",
            "Epoch 41/100\n",
            "1/1 [==============================] - 0s 21ms/step - loss: 0.3955 - accuracy: 1.0000\n",
            "Epoch 42/100\n",
            "1/1 [==============================] - 0s 20ms/step - loss: 0.3949 - accuracy: 1.0000\n",
            "Epoch 43/100\n",
            "1/1 [==============================] - 0s 21ms/step - loss: 0.3942 - accuracy: 1.0000\n",
            "Epoch 44/100\n",
            "1/1 [==============================] - 0s 22ms/step - loss: 0.3936 - accuracy: 1.0000\n",
            "Epoch 45/100\n",
            "1/1 [==============================] - 0s 21ms/step - loss: 0.3930 - accuracy: 1.0000\n",
            "Epoch 46/100\n",
            "1/1 [==============================] - 0s 21ms/step - loss: 0.3923 - accuracy: 1.0000\n",
            "Epoch 47/100\n",
            "1/1 [==============================] - 0s 20ms/step - loss: 0.3917 - accuracy: 1.0000\n",
            "Epoch 48/100\n",
            "1/1 [==============================] - 0s 20ms/step - loss: 0.3911 - accuracy: 1.0000\n",
            "Epoch 49/100\n",
            "1/1 [==============================] - 0s 21ms/step - loss: 0.3905 - accuracy: 1.0000\n",
            "Epoch 50/100\n",
            "1/1 [==============================] - 0s 20ms/step - loss: 0.3898 - accuracy: 1.0000\n",
            "Epoch 51/100\n",
            "1/1 [==============================] - 0s 19ms/step - loss: 0.3892 - accuracy: 1.0000\n",
            "Epoch 52/100\n",
            "1/1 [==============================] - 0s 20ms/step - loss: 0.3886 - accuracy: 1.0000\n",
            "Epoch 53/100\n",
            "1/1 [==============================] - 0s 24ms/step - loss: 0.3880 - accuracy: 1.0000\n",
            "Epoch 54/100\n",
            "1/1 [==============================] - 0s 23ms/step - loss: 0.3874 - accuracy: 1.0000\n",
            "Epoch 55/100\n",
            "1/1 [==============================] - 0s 23ms/step - loss: 0.3867 - accuracy: 1.0000\n",
            "Epoch 56/100\n",
            "1/1 [==============================] - 0s 24ms/step - loss: 0.3862 - accuracy: 1.0000\n",
            "Epoch 57/100\n",
            "1/1 [==============================] - 0s 21ms/step - loss: 0.3855 - accuracy: 1.0000\n",
            "Epoch 58/100\n",
            "1/1 [==============================] - 0s 22ms/step - loss: 0.3849 - accuracy: 1.0000\n",
            "Epoch 59/100\n",
            "1/1 [==============================] - 0s 21ms/step - loss: 0.3843 - accuracy: 1.0000\n",
            "Epoch 60/100\n",
            "1/1 [==============================] - 0s 24ms/step - loss: 0.3837 - accuracy: 1.0000\n",
            "Epoch 61/100\n",
            "1/1 [==============================] - 0s 26ms/step - loss: 0.3831 - accuracy: 1.0000\n",
            "Epoch 62/100\n",
            "1/1 [==============================] - 0s 23ms/step - loss: 0.3825 - accuracy: 1.0000\n",
            "Epoch 63/100\n",
            "1/1 [==============================] - 0s 25ms/step - loss: 0.3819 - accuracy: 1.0000\n",
            "Epoch 64/100\n",
            "1/1 [==============================] - 0s 24ms/step - loss: 0.3813 - accuracy: 1.0000\n",
            "Epoch 65/100\n",
            "1/1 [==============================] - 0s 24ms/step - loss: 0.3807 - accuracy: 1.0000\n",
            "Epoch 66/100\n",
            "1/1 [==============================] - 0s 22ms/step - loss: 0.3801 - accuracy: 1.0000\n",
            "Epoch 67/100\n",
            "1/1 [==============================] - 0s 25ms/step - loss: 0.3795 - accuracy: 1.0000\n",
            "Epoch 68/100\n",
            "1/1 [==============================] - 0s 24ms/step - loss: 0.3789 - accuracy: 1.0000\n",
            "Epoch 69/100\n",
            "1/1 [==============================] - 0s 25ms/step - loss: 0.3783 - accuracy: 1.0000\n",
            "Epoch 70/100\n",
            "1/1 [==============================] - 0s 23ms/step - loss: 0.3776 - accuracy: 1.0000\n",
            "Epoch 71/100\n",
            "1/1 [==============================] - 0s 22ms/step - loss: 0.3770 - accuracy: 1.0000\n",
            "Epoch 72/100\n",
            "1/1 [==============================] - 0s 21ms/step - loss: 0.3765 - accuracy: 1.0000\n",
            "Epoch 73/100\n",
            "1/1 [==============================] - 0s 26ms/step - loss: 0.3759 - accuracy: 1.0000\n",
            "Epoch 74/100\n",
            "1/1 [==============================] - 0s 20ms/step - loss: 0.3753 - accuracy: 1.0000\n",
            "Epoch 75/100\n",
            "1/1 [==============================] - 0s 25ms/step - loss: 0.3747 - accuracy: 1.0000\n",
            "Epoch 76/100\n",
            "1/1 [==============================] - 0s 23ms/step - loss: 0.3741 - accuracy: 1.0000\n",
            "Epoch 77/100\n",
            "1/1 [==============================] - 0s 21ms/step - loss: 0.3735 - accuracy: 1.0000\n",
            "Epoch 78/100\n",
            "1/1 [==============================] - 0s 24ms/step - loss: 0.3729 - accuracy: 1.0000\n",
            "Epoch 79/100\n",
            "1/1 [==============================] - 0s 26ms/step - loss: 0.3724 - accuracy: 1.0000\n",
            "Epoch 80/100\n",
            "1/1 [==============================] - 0s 22ms/step - loss: 0.3718 - accuracy: 1.0000\n",
            "Epoch 81/100\n",
            "1/1 [==============================] - 0s 25ms/step - loss: 0.3712 - accuracy: 1.0000\n",
            "Epoch 82/100\n",
            "1/1 [==============================] - 0s 22ms/step - loss: 0.3706 - accuracy: 1.0000\n",
            "Epoch 83/100\n",
            "1/1 [==============================] - 0s 21ms/step - loss: 0.3700 - accuracy: 1.0000\n",
            "Epoch 84/100\n",
            "1/1 [==============================] - 0s 20ms/step - loss: 0.3694 - accuracy: 1.0000\n",
            "Epoch 85/100\n",
            "1/1 [==============================] - 0s 21ms/step - loss: 0.3688 - accuracy: 1.0000\n",
            "Epoch 86/100\n",
            "1/1 [==============================] - 0s 21ms/step - loss: 0.3683 - accuracy: 1.0000\n",
            "Epoch 87/100\n",
            "1/1 [==============================] - 0s 23ms/step - loss: 0.3677 - accuracy: 1.0000\n",
            "Epoch 88/100\n",
            "1/1 [==============================] - 0s 21ms/step - loss: 0.3671 - accuracy: 1.0000\n",
            "Epoch 89/100\n",
            "1/1 [==============================] - 0s 21ms/step - loss: 0.3665 - accuracy: 1.0000\n",
            "Epoch 90/100\n",
            "1/1 [==============================] - 0s 22ms/step - loss: 0.3660 - accuracy: 1.0000\n",
            "Epoch 91/100\n",
            "1/1 [==============================] - 0s 20ms/step - loss: 0.3654 - accuracy: 1.0000\n",
            "Epoch 92/100\n",
            "1/1 [==============================] - 0s 26ms/step - loss: 0.3648 - accuracy: 1.0000\n",
            "Epoch 93/100\n",
            "1/1 [==============================] - 0s 22ms/step - loss: 0.3643 - accuracy: 1.0000\n",
            "Epoch 94/100\n",
            "1/1 [==============================] - 0s 25ms/step - loss: 0.3637 - accuracy: 1.0000\n",
            "Epoch 95/100\n",
            "1/1 [==============================] - 0s 22ms/step - loss: 0.3631 - accuracy: 1.0000\n",
            "Epoch 96/100\n",
            "1/1 [==============================] - 0s 22ms/step - loss: 0.3626 - accuracy: 1.0000\n",
            "Epoch 97/100\n",
            "1/1 [==============================] - 0s 22ms/step - loss: 0.3620 - accuracy: 1.0000\n",
            "Epoch 98/100\n",
            "1/1 [==============================] - 0s 21ms/step - loss: 0.3614 - accuracy: 1.0000\n",
            "Epoch 99/100\n",
            "1/1 [==============================] - 0s 24ms/step - loss: 0.3609 - accuracy: 1.0000\n",
            "Epoch 100/100\n",
            "1/1 [==============================] - 0s 21ms/step - loss: 0.3603 - accuracy: 1.0000\n",
            "1/1 [==============================] - 0s 32ms/step - loss: 0.1559 - accuracy: 1.0000\n",
            "Accuracy: 1.0\n"
          ]
        }
      ]
    },
    {
      "cell_type": "markdown",
      "source": [
        "### 2. Functional APIs\n",
        "\n",
        "The Keras functional API offers a flexible way to define neural network architectures beyond the limitations of the sequential API\n",
        "\n",
        "*   **Multiple inputs** and outputs: This is useful for tasks like multi-modal data processing or generating multiple predictions simultaneously.\n",
        "*   **Shared layers:** Reuse of layers across different branches of the model improves efficiency and promotes information sharing.\n",
        "*   **Non-linear topologies:** Design models with complex, directed acyclic graphs (DAGs) to represent intricate relationships between data and predictions.\n",
        "\n"
      ],
      "metadata": {
        "id": "o-tgQMaYiCdT"
      }
    },
    {
      "cell_type": "markdown",
      "source": [
        "## Code examples for functional APIs\n",
        "\n",
        "![image.png](data:image/png;base64,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)\n",
        "![image.png](data:image/png;base64,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)\n",
        "\n",
        "Each line defines a layer and connects it to the previous one(s). We use:\n",
        "\n",
        "**Conv2D:** Convolutional layer for the image input.\n",
        "\n",
        "**Dense:** Dense layer for the feature vector and shared branch.\n",
        "\n",
        "**concatenate:** Combines outputs from image and feature branches.\n",
        "\n",
        "**Dense:** Separate dense layers for each output branch.\n",
        "\n",
        "```\n",
        "\n",
        "model = keras.Model(inputs=[input_a, input_b], outputs=[output_a, output_b])\n",
        "\n",
        "model.compile(loss=['binary_crossentropy', 'categorical_crossentropy'], optimizer='adam')\n",
        "```"
      ],
      "metadata": {
        "id": "__yfqAggoI82"
      }
    },
    {
      "cell_type": "markdown",
      "source": [
        "#Layers\n",
        "\n",
        "**1. Core Layers:**\n",
        "\n",
        "- **Dense:** Fully connected layer, performing linear transformations on its inputs.\n",
        "\n",
        "```python\n",
        "from tensorflow.keras.layers import Dense\n",
        "\n",
        "input_layer = keras.Input(shape=(10,))\n",
        "hidden_layer = Dense(64, activation='relu')(input_layer)\n",
        "output_layer = Dense(1, activation='sigmoid')(hidden_layer)\n",
        "```\n",
        "\n",
        "- **Activation:** Applies a non-linear function to the output of a layer. Common activations include:\n",
        "    - ReLU: `activation='relu'`\n",
        "    - Sigmoid: `activation='sigmoid'`\n",
        "    - Tanh: `activation='tanh'`\n",
        "\n",
        "```python\n",
        "# ReLU example\n",
        "relu_layer = Dense(64, activation='relu')(input_layer)\n",
        "\n",
        "# Sigmoid example\n",
        "sigmoid_layer = Dense(1, activation='sigmoid')(hidden_layer)\n",
        "```\n",
        "\n",
        "- **Flatten:** Reshapes the input into a single 1D vector.\n",
        "\n",
        "```python\n",
        "from tensorflow.keras.layers import Flatten\n",
        "\n",
        "image_input = keras.Input(shape=(28, 28, 1))\n",
        "flattened_image = Flatten()(image_input)\n",
        "```\n",
        "\n",
        "**2. Convolutional Layers (for image/3D data):**\n",
        "\n",
        "- **Conv2D/Conv3D:** Applies filters to extract features from spatial data.\n",
        "\n",
        "```python\n",
        "from tensorflow.keras.layers import Conv2D, Conv3D\n",
        "\n",
        "image_input = keras.Input(shape=(28, 28, 1))\n",
        "conv_layer = Conv2D(32, kernel_size=(3, 3), activation='relu')(image_input)\n",
        "\n",
        "# 3D example for video data\n",
        "volume_input = keras.Input(shape=(16, 16, 16, 1))\n",
        "conv_layer = Conv3D(16, kernel_size=(3, 3, 3), activation='relu')(volume_input)\n",
        "```\n",
        "\n",
        "- **MaxPooling/AveragePooling:** Reduces the dimensionality of spatial data.\n",
        "\n",
        "```python\n",
        "from tensorflow.keras.layers import MaxPooling2D, AveragePooling2D\n",
        "\n",
        "conv_layer = Conv2D(32, kernel_size=(3, 3), activation='relu')(image_input)\n",
        "max_pool = MaxPooling2D(pool_size=(2, 2))(conv_layer)\n",
        "\n",
        "# Average pooling example\n",
        "avg_pool = AveragePooling2D(pool_size=(2, 2))(conv_layer)\n",
        "```\n",
        "\n",
        "**3. Recurrent Layers (for sequential data):**\n",
        "\n",
        "- **LSTM (Long Short-Term memory):** Processes sequential data like text or time series.\n",
        "\n",
        "```python\n",
        "from tensorflow.keras.layers import LSTM\n",
        "\n",
        "text_input = keras.Input(shape=(max_length, vocab_size))\n",
        "lstm_layer = LSTM(64)(text_input)\n",
        "```\n",
        "\n",
        "- **GRU (Gated Recurrent Unit):** Similar to LSTM but with simpler architecture.\n",
        "\n",
        "```python\n",
        "from tensorflow.keras.layers import GRU\n",
        "\n",
        "lstm_layer = GRU(64)(text_input)\n",
        "```\n",
        "\n",
        "**4. Normalization Layers:**\n",
        "\n",
        "- **BatchNormalization:** Improves convergence and reduces internal covariate shift.\n",
        "\n",
        "```python\n",
        "from tensorflow.keras.layers import BatchNormalization\n",
        "\n",
        "conv_layer = Conv2D(32, kernel_size=(3, 3), activation='relu')(image_input)\n",
        "bn_layer = BatchNormalization()(conv_layer)\n",
        "```\n",
        "\n",
        "- **LayerNormalization:** Normalizes across features within each sample.\n",
        "\n",
        "```python\n",
        "from tensorflow.keras.layers import LayerNormalization\n",
        "\n",
        "bn_layer = LayerNormalization()(conv_layer)\n",
        "```\n",
        "\n",
        "**5. Other Layers:**\n",
        "\n",
        "- **Dropout:** Randomly drops units during training to prevent overfitting.\n",
        "\n",
        "```python\n",
        "from tensorflow.keras.layers import Dropout\n",
        "\n",
        "hidden_layer = Dense(64, activation='relu')(input_layer)\n",
        "dropout_layer = Dropout(0.2)(hidden_layer)\n",
        "```\n",
        "\n",
        "- **Embedding:** Converts categorical data into dense representations.\n",
        "\n",
        "```python\n",
        "from tensorflow.keras.layers import Embedding\n",
        "\n",
        "text_input = keras.Input(shape=(max_length,))\n",
        "embedding_layer = Embedding(vocab_size, embedding_dim)(text_input)\n",
        "```\n",
        "\n",
        "These are just a few examples, and Keras offers many more specialized layers. Remember to choose the appropriate layers based on your data type, task, and desired model architecture.\n"
      ],
      "metadata": {
        "id": "Pgytal_doy3H"
      }
    },
    {
      "cell_type": "markdown",
      "source": [
        "## Optimizers\n",
        "\n",
        "## Optimizers in Keras: Guiding Your Neural Network's Journey\n",
        "\n",
        "In the realm of training neural networks, **optimizers** play a crucial role in adjusting the network's internal parameters (weights and biases) to minimize the loss function and improve performance. Imagine navigating a maze; the optimizer helps you find the quickest path to the exit (minimum loss) by learning from previous steps.\n",
        "\n",
        "Keras provides a diverse selection of optimizers, each with its own strengths and weaknesses. Let's explore some of the most common ones:\n",
        "\n",
        "**1. Stochastic Gradient Descent (SGD):**\n",
        "\n",
        "* **Concept:** Takes small steps in the direction of the negative gradient, updating parameters individually.\n",
        "* **Code example:**\n",
        "\n",
        "```python\n",
        "from tensorflow.keras.optimizers import SGD\n",
        "\n",
        "optimizer = SGD(learning_rate=0.01, momentum=0.9)\n",
        "```\n",
        "\n",
        "* **Parameters:**\n",
        "    - `learning_rate`: Controls the step size for updates.\n",
        "    - `momentum`: Incorporates past gradients for smoother updates.\n",
        "\n",
        "**2. Adam:**\n",
        "\n",
        "* **Concept:** Adaptive moment estimation, combines the benefits of SGD and momentum with additional adjustments based on previous gradients' magnitudes.\n",
        "* **Code example:**\n",
        "\n",
        "```python\n",
        "from tensorflow.keras.optimizers import Adam\n",
        "\n",
        "optimizer = Adam(learning_rate=0.001)\n",
        "```\n",
        "\n",
        "* **Parameters:**\n",
        "    - `learning_rate`: Controls the step size for updates.\n",
        "\n",
        "**3. RMSprop:**\n",
        "\n",
        "* **Concept:** Root Mean Squared Propagation, focuses on updates based on the average of squared past gradients, helping to deal with sparse gradients.\n",
        "* **Code example:**\n",
        "\n",
        "```python\n",
        "from tensorflow.keras.optimizers import RMSprop\n",
        "\n",
        "optimizer = RMSprop(learning_rate=0.001)\n",
        "```\n",
        "\n",
        "* **Parameters:**\n",
        "    - `learning_rate`: Controls the step size for updates.\n",
        "\n",
        "**4. AdaGrad:**\n",
        "\n",
        "* **Concept:** Accumulates the sum of squared past gradients for each parameter, potentially reducing learning rate for frequently updated parameters.\n",
        "* **Code example:**\n",
        "\n",
        "```python\n",
        "from tensorflow.keras.optimizers import AdaGrad\n",
        "\n",
        "optimizer = AdaGrad(learning_rate=0.01)\n",
        "```\n",
        "\n",
        "* **Parameters:**\n",
        "    - `learning_rate`: Controls the initial learning rate.\n",
        "\n",
        "**5. Adadelta:**\n",
        "\n",
        "* **Concept:** Adaptive learning rate per parameter based on a decaying window of past squared gradients, addressing issues with AdaGrad's constant accumulation.\n",
        "* **Code example:**\n",
        "\n",
        "```python\n",
        "from tensorflow.keras.optimizers import Adadelta\n",
        "\n",
        "optimizer = Adadelta(learning_rate=1.0)\n",
        "```\n",
        "\n",
        "* **Parameters:**\n",
        "    - `learning_rate`: Controls the initial learning rate.\n",
        "\n",
        "**Key Points:**\n",
        "\n",
        "* Choosing the right optimizer depends on your dataset, model architecture, and learning rate sensitivity.\n",
        "* Experiment with different optimizers and hyperparameters (learning rate, momentum, etc.) to find the best performing combination for your task.\n",
        "* Consider factors like convergence speed, generalization ability, and potential vanishing/exploding gradients when selecting an optimizer.\n"
      ],
      "metadata": {
        "id": "wux5w8F3rpyq"
      }
    }
  ]
}